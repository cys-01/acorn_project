{
 "cells": [
  {
   "cell_type": "code",
   "execution_count": 1,
   "id": "ca9d49b4-3a4c-4302-9437-a15a40a2dbc2",
   "metadata": {},
   "outputs": [
    {
     "name": "stdout",
     "output_type": "stream",
     "text": [
      "총 388개의 용어가 '무기의세계.csv' 파일에 저장되었습니다.\n"
     ]
    }
   ],
   "source": [
    "import time\n",
    "import pandas as pd\n",
    "from bs4 import BeautifulSoup\n",
    "from selenium import webdriver\n",
    "from selenium.webdriver.common.by import By\n",
    "from selenium.webdriver.chrome.service import Service as ChromeService\n",
    "from selenium.webdriver.support.ui import WebDriverWait\n",
    "from selenium.webdriver.support import expected_conditions as EC\n",
    "from webdriver_manager.chrome import ChromeDriverManager\n",
    "\n",
    "# 드라이버 실행 및 첫 페이지 로딩\n",
    "service = ChromeService(executable_path=ChromeDriverManager().install())\n",
    "driver = webdriver.Chrome(service=service)\n",
    "url = 'https://terms.naver.com/list.naver?cid=59087&categoryId=59087&page=1'\n",
    "driver.get(url)\n",
    "WebDriverWait(driver, 10).until(EC.presence_of_element_located((By.CLASS_NAME, \"desc\")))\n",
    "\n",
    "# 전체 페이지 크롤링 함수\n",
    "def all_pages():\n",
    "    page_number = 1\n",
    "    while True:\n",
    "        WebDriverWait(driver, 10).until(EC.presence_of_element_located((By.CLASS_NAME, \"desc\")))\n",
    "        soup = BeautifulSoup(driver.page_source, 'html.parser')\n",
    "\n",
    "        results = []\n",
    "        for li in soup.select('ul.content_list > li'):\n",
    "            term_tag = li.select_one('strong.title > a')\n",
    "            desc_tag = li.select_one('p.desc')\n",
    "            if term_tag and desc_tag:\n",
    "                term = term_tag.get_text(strip=True)\n",
    "                desc = desc_tag.get_text(strip=True)\n",
    "                results.append({'용어': term, '설명': desc})\n",
    "\n",
    "        yield results\n",
    "\n",
    "        # 다음 페이지로 이동\n",
    "        next_page_num = page_number + 1\n",
    "        next_link = soup.select_one(f'div#paginate a[href*=\"page={next_page_num}\"]')\n",
    "        if next_link and 'href' in next_link.attrs:\n",
    "            next_url = \"https://terms.naver.com\" + next_link['href']\n",
    "            driver.get(next_url)\n",
    "            page_number = next_page_num\n",
    "        else:\n",
    "            break\n",
    "\n",
    "# 크롤링 실행 및 CSV 저장\n",
    "all_data = []\n",
    "for page_data in all_pages():\n",
    "    all_data.extend(page_data)\n",
    "\n",
    "df = pd.DataFrame(all_data)\n",
    "df.to_csv('무기의세계.csv', index=False, encoding='utf-8-sig')\n",
    "\n",
    "print(f\"총 {len(df)}개의 용어가 '무기의세계.csv' 파일에 저장되었습니다.\")"
   ]
  },
  {
   "cell_type": "code",
   "execution_count": 3,
   "id": "9966d321-d7b3-451d-8a09-dc15b84c62a5",
   "metadata": {},
   "outputs": [
    {
     "data": {
      "text/html": [
       "<div>\n",
       "<style scoped>\n",
       "    .dataframe tbody tr th:only-of-type {\n",
       "        vertical-align: middle;\n",
       "    }\n",
       "\n",
       "    .dataframe tbody tr th {\n",
       "        vertical-align: top;\n",
       "    }\n",
       "\n",
       "    .dataframe thead th {\n",
       "        text-align: right;\n",
       "    }\n",
       "</style>\n",
       "<table border=\"1\" class=\"dataframe\">\n",
       "  <thead>\n",
       "    <tr style=\"text-align: right;\">\n",
       "      <th></th>\n",
       "      <th>용어</th>\n",
       "      <th>설명</th>\n",
       "    </tr>\n",
       "  </thead>\n",
       "  <tbody>\n",
       "    <tr>\n",
       "      <th>0</th>\n",
       "      <td>F-2 [Mitsubishi F-2]</td>\n",
       "      <td>F-2는 일본 항공자위대가 운용중인 전투기로 F-16 전투기를 바탕으로 미국과 일본...</td>\n",
       "    </tr>\n",
       "    <tr>\n",
       "      <th>1</th>\n",
       "      <td>알레이버크급 구축함 [Arleigh Burke class destroyer]</td>\n",
       "      <td>알레이버크급 구축함은 미 해군의 주력 수상전투함으로 이지스함의 대명사로 알려져 있다...</td>\n",
       "    </tr>\n",
       "    <tr>\n",
       "      <th>2</th>\n",
       "      <td>Ju 52 수송기</td>\n",
       "      <td>Ju 52는 제2차 대전 관련 에피소드에서 약방의 감초처럼 등장하는 숨은 주인공이었...</td>\n",
       "    </tr>\n",
       "    <tr>\n",
       "      <th>3</th>\n",
       "      <td>X-37B [X-37B Orbital Test Vehicle]</td>\n",
       "      <td>X-37B는 미 공군이 운용중인 무인우주선으로 궤도시험기라는 정식명칭을 가지고 있다...</td>\n",
       "    </tr>\n",
       "    <tr>\n",
       "      <th>4</th>\n",
       "      <td>미니트맨 [LGM-30 Minuteman]</td>\n",
       "      <td>미니트맨은 미 공군이 운용중인 대륙간탄도미사일로 미국의 핵 억제력에 중추적인 위치를...</td>\n",
       "    </tr>\n",
       "  </tbody>\n",
       "</table>\n",
       "</div>"
      ],
      "text/plain": [
       "                                           용어  \\\n",
       "0                        F-2 [Mitsubishi F-2]   \n",
       "1  알레이버크급 구축함 [Arleigh Burke class destroyer]   \n",
       "2                                   Ju 52 수송기   \n",
       "3          X-37B [X-37B Orbital Test Vehicle]   \n",
       "4                     미니트맨 [LGM-30 Minuteman]   \n",
       "\n",
       "                                                  설명  \n",
       "0  F-2는 일본 항공자위대가 운용중인 전투기로 F-16 전투기를 바탕으로 미국과 일본...  \n",
       "1  알레이버크급 구축함은 미 해군의 주력 수상전투함으로 이지스함의 대명사로 알려져 있다...  \n",
       "2  Ju 52는 제2차 대전 관련 에피소드에서 약방의 감초처럼 등장하는 숨은 주인공이었...  \n",
       "3  X-37B는 미 공군이 운용중인 무인우주선으로 궤도시험기라는 정식명칭을 가지고 있다...  \n",
       "4  미니트맨은 미 공군이 운용중인 대륙간탄도미사일로 미국의 핵 억제력에 중추적인 위치를...  "
      ]
     },
     "execution_count": 3,
     "metadata": {},
     "output_type": "execute_result"
    }
   ],
   "source": [
    "wp = pd.read_csv('무기의세계.csv')\n",
    "wp.head()"
   ]
  },
  {
   "cell_type": "code",
   "execution_count": 4,
   "id": "4db91137-8f28-4eb4-803d-74c85320c2fd",
   "metadata": {},
   "outputs": [
    {
     "name": "stdout",
     "output_type": "stream",
     "text": [
      "<class 'pandas.core.frame.DataFrame'>\n",
      "RangeIndex: 388 entries, 0 to 387\n",
      "Data columns (total 2 columns):\n",
      " #   Column  Non-Null Count  Dtype \n",
      "---  ------  --------------  ----- \n",
      " 0   용어      388 non-null    object\n",
      " 1   설명      388 non-null    object\n",
      "dtypes: object(2)\n",
      "memory usage: 6.2+ KB\n"
     ]
    }
   ],
   "source": [
    "wp.info()"
   ]
  },
  {
   "cell_type": "code",
   "execution_count": 6,
   "id": "4ef4626b-0ff5-48ef-928c-c1282ff577d4",
   "metadata": {},
   "outputs": [],
   "source": [
    "import re\n",
    "import pandas as pd\n",
    "\n",
    "# 1. 전처리 함수 정의\n",
    "def clean_term(term: str) -> str:\n",
    "    term = re.sub(r\"\\(.*?\\)\", \"\", term)  # 소괄호 제거\n",
    "    term = re.sub(r\"\\[.*?\\]\", \"\", term)  # 대괄호 제거\n",
    "    return term.strip()\n",
    "\n",
    "# 2. CSV 불러오기\n",
    "wp = pd.read_csv(\"무기의세계.csv\")\n",
    "\n",
    "# 3. '용어' 컬럼 덮어쓰기\n",
    "wp[\"용어\"] = wp[\"용어\"].apply(clean_term)\n",
    "\n",
    "# 4. 덮어쓴 상태로 저장 (원래 파일에 덮어쓰기)\n",
    "wp.to_csv(\"무기의세계.csv\", index=False)"
   ]
  },
  {
   "cell_type": "code",
   "execution_count": null,
   "id": "3dc53bf0-37b7-4bd3-bd64-0e849f743920",
   "metadata": {},
   "outputs": [],
   "source": []
  }
 ],
 "metadata": {
  "kernelspec": {
   "display_name": "Python 3 (ipykernel)",
   "language": "python",
   "name": "python3"
  },
  "language_info": {
   "codemirror_mode": {
    "name": "ipython",
    "version": 3
   },
   "file_extension": ".py",
   "mimetype": "text/x-python",
   "name": "python",
   "nbconvert_exporter": "python",
   "pygments_lexer": "ipython3",
   "version": "3.12.9"
  }
 },
 "nbformat": 4,
 "nbformat_minor": 5
}
