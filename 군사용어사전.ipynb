{
 "cells": [
  {
   "cell_type": "code",
   "execution_count": 1,
   "id": "130b9751-7a0b-4268-b8bc-981c17b02872",
   "metadata": {},
   "outputs": [
    {
     "name": "stdout",
     "output_type": "stream",
     "text": [
      "총 6902개의 용어가 '군사용어사전.csv' 파일에 저장되었습니다.\n"
     ]
    }
   ],
   "source": [
    "import time\n",
    "import pandas as pd\n",
    "from bs4 import BeautifulSoup\n",
    "from selenium import webdriver\n",
    "from selenium.webdriver.common.by import By\n",
    "from selenium.webdriver.chrome.service import Service as ChromeService\n",
    "from selenium.webdriver.support.ui import WebDriverWait\n",
    "from selenium.webdriver.support import expected_conditions as EC\n",
    "from webdriver_manager.chrome import ChromeDriverManager\n",
    "\n",
    "# 드라이버 실행 및 첫 페이지 로딩\n",
    "service = ChromeService(executable_path=ChromeDriverManager().install())\n",
    "driver = webdriver.Chrome(service=service)\n",
    "url = 'https://terms.naver.com/list.naver?cid=42157&categoryId=42157'\n",
    "driver.get(url)\n",
    "WebDriverWait(driver, 10).until(EC.presence_of_element_located((By.CLASS_NAME, \"desc\")))\n",
    "\n",
    "# 전체 페이지 크롤링 함수\n",
    "def all_pages():\n",
    "    page_number = 1\n",
    "    while True:\n",
    "        WebDriverWait(driver, 10).until(EC.presence_of_element_located((By.CLASS_NAME, \"desc\")))\n",
    "        soup = BeautifulSoup(driver.page_source, 'html.parser')\n",
    "\n",
    "        results = []\n",
    "        for li in soup.select('ul.content_list > li'):\n",
    "            term_tag = li.select_one('strong.title > a')\n",
    "            desc_tag = li.select_one('p.desc')\n",
    "            if term_tag and desc_tag:\n",
    "                term = term_tag.get_text(strip=True)\n",
    "                desc = desc_tag.get_text(strip=True)\n",
    "                results.append({'용어': term, '설명': desc})\n",
    "\n",
    "        yield results\n",
    "\n",
    "        # 다음 페이지로 이동\n",
    "        next_page_num = page_number + 1\n",
    "        next_link = soup.select_one(f'div#paginate a[href*=\"page={next_page_num}\"]')\n",
    "        if next_link and 'href' in next_link.attrs:\n",
    "            next_url = \"https://terms.naver.com\" + next_link['href']\n",
    "            driver.get(next_url)\n",
    "            page_number = next_page_num\n",
    "        else:\n",
    "            break\n",
    "\n",
    "# 크롤링 실행 및 CSV 저장\n",
    "all_data = []\n",
    "for page_data in all_pages():\n",
    "    all_data.extend(page_data)\n",
    "\n",
    "df = pd.DataFrame(all_data)\n",
    "df.to_csv('군사용어사전.csv', index=False, encoding='utf-8-sig')\n",
    "\n",
    "print(f\"총 {len(df)}개의 용어가 '군사용어사전.csv' 파일에 저장되었습니다.\")"
   ]
  },
  {
   "cell_type": "code",
   "execution_count": null,
   "id": "b4896c8e-2841-49cf-9c03-b6f79c4b600f",
   "metadata": {},
   "outputs": [],
   "source": []
  }
 ],
 "metadata": {
  "kernelspec": {
   "display_name": "Python 3 (ipykernel)",
   "language": "python",
   "name": "python3"
  },
  "language_info": {
   "codemirror_mode": {
    "name": "ipython",
    "version": 3
   },
   "file_extension": ".py",
   "mimetype": "text/x-python",
   "name": "python",
   "nbconvert_exporter": "python",
   "pygments_lexer": "ipython3",
   "version": "3.12.9"
  }
 },
 "nbformat": 4,
 "nbformat_minor": 5
}
